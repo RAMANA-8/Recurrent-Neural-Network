{
  "cells": [
    {
      "cell_type": "code",
      "execution_count": null,
      "id": "d60f63ae",
      "metadata": {
        "id": "d60f63ae"
      },
      "outputs": [],
      "source": [
        "import numpy as np\n",
        "import tensorflow as tf\n",
        "from tensorflow.keras.models import Sequential\n",
        "from tensorflow.keras.layers import SimpleRNN, Dense"
      ]
    },
    {
      "cell_type": "code",
      "execution_count": null,
      "id": "09f3b0ce",
      "metadata": {
        "id": "09f3b0ce"
      },
      "outputs": [],
      "source": [
        "# Sequence data\n",
        "sequence = np.array([1, 2, 3, 4, 5, 6, 7, 8, 9, 10])\n",
        "\n",
        "# Prepare the dataset: (X, y) pairs\n",
        "X = []\n",
        "y = []\n",
        "seq_length = 3  # Use 3 numbers to predict the next one\n",
        "\n",
        "for i in range(len(sequence) - seq_length):\n",
        "    X.append(sequence[i:i + seq_length])\n",
        "    y.append(sequence[i + seq_length])\n",
        "\n",
        "X = np.array(X)\n",
        "y = np.array(y)\n",
        "\n",
        "# Reshape X to be [samples, time steps, features]\n",
        "X = X.reshape((X.shape[0], X.shape[1], 1))\n"
      ]
    },
    {
      "cell_type": "code",
      "execution_count": null,
      "id": "050fec75",
      "metadata": {
        "id": "050fec75",
        "outputId": "6869a1d7-4dbd-459f-c4a9-66a6e5377b19"
      },
      "outputs": [
        {
          "name": "stdout",
          "output_type": "stream",
          "text": [
            "Model: \"sequential\"\n",
            "_________________________________________________________________\n",
            " Layer (type)                Output Shape              Param #   \n",
            "=================================================================\n",
            " simple_rnn (SimpleRNN)      (None, 50)                2600      \n",
            "                                                                 \n",
            " dense (Dense)               (None, 1)                 51        \n",
            "                                                                 \n",
            "=================================================================\n",
            "Total params: 2,651\n",
            "Trainable params: 2,651\n",
            "Non-trainable params: 0\n",
            "_________________________________________________________________\n"
          ]
        }
      ],
      "source": [
        "# Build the model\n",
        "model = Sequential()\n",
        "model.add(SimpleRNN(50, activation='relu', input_shape=(X.shape[1], X.shape[2])))\n",
        "model.add(Dense(1))\n",
        "\n",
        "# Compile the model\n",
        "model.compile(optimizer='adam', loss='mse')\n",
        "\n",
        "# Print the model summary\n",
        "model.summary()"
      ]
    },
    {
      "cell_type": "code",
      "execution_count": null,
      "id": "dc9d716c",
      "metadata": {
        "id": "dc9d716c",
        "outputId": "23ae62cd-b963-4d53-c8af-3c2c4d228bb7"
      },
      "outputs": [
        {
          "data": {
            "text/plain": [
              "<keras.callbacks.History at 0x2c369f86a30>"
            ]
          },
          "execution_count": 4,
          "metadata": {},
          "output_type": "execute_result"
        }
      ],
      "source": [
        "# Train the model\n",
        "model.fit(X, y, epochs=200, verbose=0)"
      ]
    },
    {
      "cell_type": "code",
      "execution_count": null,
      "id": "ca8b299d",
      "metadata": {
        "id": "ca8b299d",
        "outputId": "c25279ff-f51d-45c4-a727-764e06734c96"
      },
      "outputs": [
        {
          "name": "stdout",
          "output_type": "stream",
          "text": [
            "Predicted value: 11.790103\n"
          ]
        }
      ],
      "source": [
        "# Predict the next number after [8, 9, 10]\n",
        "test_input = np.array([8, 9, 10])\n",
        "test_input = test_input.reshape((1, seq_length, 1))\n",
        "\n",
        "# Predict\n",
        "predicted_value = model.predict(test_input, verbose=0)\n",
        "print(\"Predicted value:\", predicted_value[0][0])"
      ]
    },
    {
      "cell_type": "code",
      "execution_count": null,
      "id": "a209104f",
      "metadata": {
        "id": "a209104f",
        "outputId": "e67597cc-95df-4353-9750-7cb19194c9b2"
      },
      "outputs": [
        {
          "data": {
            "text/plain": [
              "range(0, 10)"
            ]
          },
          "execution_count": 6,
          "metadata": {},
          "output_type": "execute_result"
        }
      ],
      "source": [
        "range(len(sequence))"
      ]
    },
    {
      "cell_type": "code",
      "execution_count": null,
      "id": "ec1b0516",
      "metadata": {
        "id": "ec1b0516",
        "outputId": "a844e4f9-6b70-4a2f-c9f5-ce399acac1f7"
      },
      "outputs": [
        {
          "data": {
            "text/plain": [
              "6"
            ]
          },
          "execution_count": 7,
          "metadata": {},
          "output_type": "execute_result"
        }
      ],
      "source": [
        "i"
      ]
    },
    {
      "cell_type": "code",
      "execution_count": null,
      "id": "6c7f8f40",
      "metadata": {
        "id": "6c7f8f40",
        "outputId": "6195aa12-608b-4397-e984-a929ee57bdc3"
      },
      "outputs": [
        {
          "data": {
            "text/plain": [
              "array([[[1],\n",
              "        [2],\n",
              "        [3]],\n",
              "\n",
              "       [[2],\n",
              "        [3],\n",
              "        [4]],\n",
              "\n",
              "       [[3],\n",
              "        [4],\n",
              "        [5]],\n",
              "\n",
              "       [[4],\n",
              "        [5],\n",
              "        [6]],\n",
              "\n",
              "       [[5],\n",
              "        [6],\n",
              "        [7]],\n",
              "\n",
              "       [[6],\n",
              "        [7],\n",
              "        [8]],\n",
              "\n",
              "       [[7],\n",
              "        [8],\n",
              "        [9]]])"
            ]
          },
          "execution_count": 8,
          "metadata": {},
          "output_type": "execute_result"
        }
      ],
      "source": [
        "X"
      ]
    }
  ],
  "metadata": {
    "kernelspec": {
      "display_name": "Python 3 (ipykernel)",
      "language": "python",
      "name": "python3"
    },
    "language_info": {
      "codemirror_mode": {
        "name": "ipython",
        "version": 3
      },
      "file_extension": ".py",
      "mimetype": "text/x-python",
      "name": "python",
      "nbconvert_exporter": "python",
      "pygments_lexer": "ipython3",
      "version": "3.9.12"
    },
    "colab": {
      "provenance": []
    }
  },
  "nbformat": 4,
  "nbformat_minor": 5
}